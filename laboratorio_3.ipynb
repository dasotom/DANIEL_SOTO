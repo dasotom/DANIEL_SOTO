{
 "cells": [
  {
   "cell_type": "code",
   "execution_count": 6,
   "metadata": {},
   "outputs": [],
   "source": [
    "import pandas as pd"
   ]
  },
  {
   "cell_type": "code",
   "execution_count": 8,
   "metadata": {},
   "outputs": [],
   "source": [
    "df=pd.read_csv(r\"C:\\Users\\usuario\\Downloads\\housing_fincaraiz.csv\",sep=\";\")"
   ]
  },
  {
   "cell_type": "code",
   "execution_count": 27,
   "metadata": {},
   "outputs": [
    {
     "name": "stdout",
     "output_type": "stream",
     "text": [
      "<class 'pandas.core.frame.DataFrame'>\n",
      "RangeIndex: 8428 entries, 0 to 8427\n",
      "Data columns (total 31 columns):\n",
      " #   Column                  Non-Null Count  Dtype \n",
      "---  ------                  --------------  ----- \n",
      " 0   habitaciones            8428 non-null   object\n",
      " 1   baños                   8428 non-null   object\n",
      " 2   parqueaderos            8428 non-null   object\n",
      " 3   area_construida         8428 non-null   object\n",
      " 4   area_privada            8428 non-null   object\n",
      " 5   estrato                 8428 non-null   int64 \n",
      " 6   estado                  8428 non-null   object\n",
      " 7   antiguedad              8428 non-null   object\n",
      " 8   administracion          8428 non-null   object\n",
      " 9   precio_m2               8428 non-null   object\n",
      " 10  Ascensor                8428 non-null   int64 \n",
      " 11  Circuito cerrado de TV  8428 non-null   int64 \n",
      " 12  Parqueadero Visitantes  8428 non-null   int64 \n",
      " 13  Portería / Recepción    8428 non-null   int64 \n",
      " 14  Zonas Verdes            8428 non-null   int64 \n",
      " 15  Salón Comunal           8428 non-null   int64 \n",
      " 16  Balcón                  8428 non-null   int64 \n",
      " 17  Barra estilo americano  8428 non-null   int64 \n",
      " 18  Calentador              8428 non-null   int64 \n",
      " 19  Chimenea                8428 non-null   int64 \n",
      " 20  Citófono                8428 non-null   int64 \n",
      " 21  Cocina Integral         8428 non-null   int64 \n",
      " 22  Terraza                 8428 non-null   int64 \n",
      " 23  Vigilancia              8428 non-null   int64 \n",
      " 24  Parques cercanos        8428 non-null   int64 \n",
      " 25  Estudio                 8428 non-null   int64 \n",
      " 26  Patio                   8428 non-null   int64 \n",
      " 27  Depósito / Bodega       8428 non-null   int64 \n",
      " 28  nombre                  8428 non-null   object\n",
      " 29  ubicacion               8428 non-null   object\n",
      " 30  precio                  8428 non-null   object\n",
      "dtypes: int64(19), object(12)\n",
      "memory usage: 2.0+ MB\n"
     ]
    }
   ],
   "source": [
    "df.info()"
   ]
  },
  {
   "cell_type": "code",
   "execution_count": 28,
   "metadata": {},
   "outputs": [
    {
     "data": {
      "text/plain": [
       "habitaciones              object\n",
       "baños                     object\n",
       "parqueaderos              object\n",
       "area_construida           object\n",
       "area_privada              object\n",
       "estrato                    int64\n",
       "estado                    object\n",
       "antiguedad                object\n",
       "administracion            object\n",
       "precio_m2                 object\n",
       "Ascensor                   int64\n",
       "Circuito cerrado de TV     int64\n",
       "Parqueadero Visitantes     int64\n",
       "Portería / Recepción       int64\n",
       "Zonas Verdes               int64\n",
       "Salón Comunal              int64\n",
       "Balcón                     int64\n",
       "Barra estilo americano     int64\n",
       "Calentador                 int64\n",
       "Chimenea                   int64\n",
       "Citófono                   int64\n",
       "Cocina Integral            int64\n",
       "Terraza                    int64\n",
       "Vigilancia                 int64\n",
       "Parques cercanos           int64\n",
       "Estudio                    int64\n",
       "Patio                      int64\n",
       "Depósito / Bodega          int64\n",
       "nombre                    object\n",
       "ubicacion                 object\n",
       "precio                    object\n",
       "dtype: object"
      ]
     },
     "execution_count": 28,
     "metadata": {},
     "output_type": "execute_result"
    }
   ],
   "source": [
    "df.dtypes"
   ]
  },
  {
   "cell_type": "code",
   "execution_count": 32,
   "metadata": {},
   "outputs": [],
   "source": [
    "df1=df[['ubicacion','habitaciones','nombre','parqueaderos','area_construida','area_privada','estado', 'estrato','precio','antiguedad','precio_m2']]"
   ]
  },
  {
   "cell_type": "code",
   "execution_count": 57,
   "metadata": {},
   "outputs": [
    {
     "data": {
      "text/plain": [
       "'999000000'"
      ]
     },
     "execution_count": 57,
     "metadata": {},
     "output_type": "execute_result"
    }
   ],
   "source": [
    "df1.precio.max(\n",
    "    \n",
    ")"
   ]
  },
  {
   "cell_type": "code",
   "execution_count": 59,
   "metadata": {},
   "outputs": [
    {
     "data": {
      "text/plain": [
       "ubicacion                   zuñiga\n",
       "habitaciones           No definida\n",
       "nombre                        Casa\n",
       "parqueaderos             Más de 10\n",
       "area_construida            99,7 m²\n",
       "area_privada              99,41 m²\n",
       "estado                  Remodelado\n",
       "estrato                          6\n",
       "precio                   999000000\n",
       "antiguedad          más de 30 años\n",
       "precio_m2          $ 969.305,33*m²\n",
       "dtype: object"
      ]
     },
     "execution_count": 59,
     "metadata": {},
     "output_type": "execute_result"
    }
   ],
   "source": [
    "\n",
    "df1.max()"
   ]
  },
  {
   "cell_type": "code",
   "execution_count": 60,
   "metadata": {},
   "outputs": [
    {
     "data": {
      "text/plain": [
       "ubicacion              12 de Octubre\n",
       "habitaciones                       1\n",
       "nombre                   Apartamento\n",
       "parqueaderos                       0\n",
       "area_construida                 1 m²\n",
       "area_privada                    0 m²\n",
       "estado                         Bueno\n",
       "estrato                            0\n",
       "precio                    1000000000\n",
       "antiguedad                1 a 8 años\n",
       "precio_m2          $ 1.028.571,43*m²\n",
       "dtype: object"
      ]
     },
     "execution_count": 60,
     "metadata": {},
     "output_type": "execute_result"
    }
   ],
   "source": [
    "df1.min()"
   ]
  },
  {
   "cell_type": "code",
   "execution_count": 62,
   "metadata": {},
   "outputs": [
    {
     "data": {
      "text/plain": [
       "habitaciones              0\n",
       "baños                     0\n",
       "parqueaderos              0\n",
       "area_construida           0\n",
       "area_privada              0\n",
       "estrato                   0\n",
       "estado                    0\n",
       "antiguedad                0\n",
       "administracion            0\n",
       "precio_m2                 0\n",
       "Ascensor                  0\n",
       "Circuito cerrado de TV    0\n",
       "Parqueadero Visitantes    0\n",
       "Portería / Recepción      0\n",
       "Zonas Verdes              0\n",
       "Salón Comunal             0\n",
       "Balcón                    0\n",
       "Barra estilo americano    0\n",
       "Calentador                0\n",
       "Chimenea                  0\n",
       "Citófono                  0\n",
       "Cocina Integral           0\n",
       "Terraza                   0\n",
       "Vigilancia                0\n",
       "Parques cercanos          0\n",
       "Estudio                   0\n",
       "Patio                     0\n",
       "Depósito / Bodega         0\n",
       "nombre                    0\n",
       "ubicacion                 0\n",
       "precio                    0\n",
       "dtype: int64"
      ]
     },
     "execution_count": 62,
     "metadata": {},
     "output_type": "execute_result"
    }
   ],
   "source": [
    "df.isna().sum()"
   ]
  }
 ],
 "metadata": {
  "kernelspec": {
   "display_name": "base",
   "language": "python",
   "name": "python3"
  },
  "language_info": {
   "codemirror_mode": {
    "name": "ipython",
    "version": 3
   },
   "file_extension": ".py",
   "mimetype": "text/x-python",
   "name": "python",
   "nbconvert_exporter": "python",
   "pygments_lexer": "ipython3",
   "version": "3.11.3"
  }
 },
 "nbformat": 4,
 "nbformat_minor": 2
}
